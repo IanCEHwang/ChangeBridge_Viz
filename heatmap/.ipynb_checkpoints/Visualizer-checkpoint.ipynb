{
 "cells": [
  {
   "cell_type": "code",
   "execution_count": 1,
   "id": "8e81020c",
   "metadata": {},
   "outputs": [],
   "source": [
    "import pandas as pd\n",
    "import numpy as np\n",
    "import seaborn as sns\n",
    "import matplotlib.pyplot as plt\n",
    "import matplotlib.colors as mcolors\n"
   ]
  },
  {
   "cell_type": "code",
   "execution_count": 2,
   "id": "1b6849e1",
   "metadata": {},
   "outputs": [],
   "source": [
    "raw_df=pd.read_csv('simulated_reponse_2023-01-03.csv')"
   ]
  },
  {
   "cell_type": "code",
   "execution_count": 3,
   "id": "82c89794",
   "metadata": {},
   "outputs": [
    {
     "data": {
      "text/plain": [
       "Index(['Company', 'Emlpoyee ID', 'Role', 'Tier', 'Element', 'Question Type',\n",
       "       'Question', 'Question num', 'Numeric Response', 'Response'],\n",
       "      dtype='object')"
      ]
     },
     "execution_count": 3,
     "metadata": {},
     "output_type": "execute_result"
    }
   ],
   "source": [
    "raw_df.columns"
   ]
  },
  {
   "cell_type": "code",
   "execution_count": 54,
   "id": "a203c2d1",
   "metadata": {},
   "outputs": [],
   "source": [
    "#defining weights dict\n",
    "#This is based on Question Type\n",
    "csf_weight_dict={\n",
    "    'Information':0.6,\n",
    "    'Behavior':0.3,\n",
    "    'Benefit':0.1\n",
    "}\n",
    "\n",
    "role_tier_dict = {\n",
    "    ('Executive','Executive' ): 4,\n",
    "    ('Executive','Operational' ): 3,\n",
    "    ('Executive','Transactional' ): 1,\n",
    "    ('Operational','Executive' ): 3,\n",
    "    ('Operational','Operational' ): 4,\n",
    "    ('Operational','Transactional' ): 3,\n",
    "    ('Transactional','Executive' ): 1,\n",
    "    ('Transactional','Operational' ): 3,\n",
    "    ('Transactional','Transactional' ): 4\n",
    "}\n",
    "\n",
    "score_dict={\n",
    "    'Disagree': 2,\n",
    "    'Somewhat disagree': 4,\n",
    "    'Somewhat agree': 7,\n",
    "    'Agree': 10\n",
    "}\n",
    "\n",
    "element_dict={\n",
    "    'STRATEGY / Credibility': 1,\n",
    "    'BUS ARCH / Transitions': 1,\n",
    "    'AGILITY / Systems': 1,\n",
    "    'PORTFOLIO / Progress': 2,\n",
    "    'CONFIG’N / Orchestration': 2,\n",
    "    'VALUE NTWKG / Execution': 2,\n",
    "    'CAMPAIGN / Engagement': 3,\n",
    "    'DESIGN / Scope': 3,\n",
    "    'STAKEHOLDER ROI / Feedback': 3,\n",
    "    'KNOWL MGMT / Transparency': 4,\n",
    "    'DEV / Completeness': 4,\n",
    "    'CAPABILITY MATURITY / Learning': 4\n",
    "}\n"
   ]
  },
  {
   "cell_type": "code",
   "execution_count": 5,
   "id": "2cb8e459",
   "metadata": {},
   "outputs": [],
   "source": [
    "\n",
    "# create a NumPy array of weights corresponding to the types in the dataframe\n",
    "raw_df['csf_weight'] = raw_df['Question Type'].map(csf_weight_dict)"
   ]
  },
  {
   "cell_type": "code",
   "execution_count": 6,
   "id": "c4115728",
   "metadata": {},
   "outputs": [],
   "source": [
    "#mapping to role_weights\n",
    "role_tier_weights = np.array([role_tier_dict.get((row['Role'], row['Tier']), np.nan) for _, row in raw_df.iterrows()])\n",
    "\n",
    "# add new column to df based on role_weights array\n",
    "raw_df['Role_Weight'] = role_tier_weights\n",
    "#raw_df['Role_Weight'] = raw_df.apply(lambda x: role_tier_dict.get((x['Role'], x['Tier']), np.nan), axis=1)\n"
   ]
  },
  {
   "cell_type": "code",
   "execution_count": 7,
   "id": "6e91e5ca",
   "metadata": {},
   "outputs": [],
   "source": [
    "#mapping to score_weight\n",
    "raw_df['Score'] = raw_df['Response'].map(score_dict)"
   ]
  },
  {
   "cell_type": "code",
   "execution_count": 55,
   "id": "850babf7",
   "metadata": {},
   "outputs": [],
   "source": [
    "#mapping to Element_sno_ for visualization\n",
    "raw_df['Element_Sno'] = raw_df['Element'].map(element_dict)"
   ]
  },
  {
   "cell_type": "code",
   "execution_count": 56,
   "id": "f417ce6c",
   "metadata": {},
   "outputs": [],
   "source": [
    "raw_df['Final_Score']=raw_df['Score']*raw_df['Role_Weight']*raw_df['csf_weight']"
   ]
  },
  {
   "cell_type": "code",
   "execution_count": 118,
   "id": "6667475f",
   "metadata": {},
   "outputs": [],
   "source": [
    "#company , employee,role,tier,element wise total of final score\n",
    "group_1_df=raw_df.groupby(by=['Company','Emlpoyee ID','Role','Tier','Element','Element_Sno'])['Final_Score'].sum()"
   ]
  },
  {
   "cell_type": "code",
   "execution_count": 117,
   "id": "be7fb84d",
   "metadata": {},
   "outputs": [
    {
     "data": {
      "text/html": [
       "<div>\n",
       "<style scoped>\n",
       "    .dataframe tbody tr th:only-of-type {\n",
       "        vertical-align: middle;\n",
       "    }\n",
       "\n",
       "    .dataframe tbody tr th {\n",
       "        vertical-align: top;\n",
       "    }\n",
       "\n",
       "    .dataframe thead th {\n",
       "        text-align: right;\n",
       "    }\n",
       "</style>\n",
       "<table border=\"1\" class=\"dataframe\">\n",
       "  <thead>\n",
       "    <tr style=\"text-align: right;\">\n",
       "      <th></th>\n",
       "      <th>Company</th>\n",
       "      <th>Role</th>\n",
       "      <th>Tier</th>\n",
       "      <th>Element</th>\n",
       "      <th>Element_Sno</th>\n",
       "      <th>Mean Final Score</th>\n",
       "    </tr>\n",
       "  </thead>\n",
       "  <tbody>\n",
       "    <tr>\n",
       "      <th>1</th>\n",
       "      <td>Company A</td>\n",
       "      <td>Executive</td>\n",
       "      <td>Executive</td>\n",
       "      <td>CAMPAIGN / Engagement</td>\n",
       "      <td>3</td>\n",
       "      <td>22.84</td>\n",
       "    </tr>\n",
       "    <tr>\n",
       "      <th>2</th>\n",
       "      <td>Company A</td>\n",
       "      <td>Executive</td>\n",
       "      <td>Executive</td>\n",
       "      <td>KNOWL MGMT / Transparency</td>\n",
       "      <td>4</td>\n",
       "      <td>18.80</td>\n",
       "    </tr>\n",
       "    <tr>\n",
       "      <th>3</th>\n",
       "      <td>Company A</td>\n",
       "      <td>Executive</td>\n",
       "      <td>Executive</td>\n",
       "      <td>PORTFOLIO / Progress</td>\n",
       "      <td>2</td>\n",
       "      <td>27.32</td>\n",
       "    </tr>\n",
       "    <tr>\n",
       "      <th>4</th>\n",
       "      <td>Company A</td>\n",
       "      <td>Executive</td>\n",
       "      <td>Executive</td>\n",
       "      <td>STRATEGY / Credibility</td>\n",
       "      <td>1</td>\n",
       "      <td>29.08</td>\n",
       "    </tr>\n",
       "    <tr>\n",
       "      <th>5</th>\n",
       "      <td>Company A</td>\n",
       "      <td>Executive</td>\n",
       "      <td>Operational</td>\n",
       "      <td>BUS ARCH / Transitions</td>\n",
       "      <td>1</td>\n",
       "      <td>19.29</td>\n",
       "    </tr>\n",
       "  </tbody>\n",
       "</table>\n",
       "</div>"
      ],
      "text/plain": [
       "     Company       Role         Tier                    Element  Element_Sno  \\\n",
       "1  Company A  Executive    Executive      CAMPAIGN / Engagement            3   \n",
       "2  Company A  Executive    Executive  KNOWL MGMT / Transparency            4   \n",
       "3  Company A  Executive    Executive       PORTFOLIO / Progress            2   \n",
       "4  Company A  Executive    Executive     STRATEGY / Credibility            1   \n",
       "5  Company A  Executive  Operational     BUS ARCH / Transitions            1   \n",
       "\n",
       "   Mean Final Score  \n",
       "1             22.84  \n",
       "2             18.80  \n",
       "3             27.32  \n",
       "4             29.08  \n",
       "5             19.29  "
      ]
     },
     "execution_count": 117,
     "metadata": {},
     "output_type": "execute_result"
    }
   ],
   "source": [
    "#company, role,tier,element wise Average of fina score\n",
    "group_2_df=group_1_df.groupby(by=['Company','Role','Tier','Element','Element_Sno']).mean().rename('Mean Final Score').reset_index()\n",
    "group_2_df.index = range(1, len(group_2_df)+1)\n",
    "group_2_df.head(5)"
   ]
  },
  {
   "cell_type": "code",
   "execution_count": 61,
   "id": "dea56061",
   "metadata": {},
   "outputs": [],
   "source": [
    "# Create a new DataFrame for each role\n",
    "Executive_data = group_2_df[group_2_df['Role'] == 'Executive']\n",
    "Operational_data = group_2_df[group_2_df['Role'] == 'Operational']\n",
    "Transactional_data = group_2_df[group_2_df['Role'] == 'Transactional']\n",
    "\n"
   ]
  },
  {
   "cell_type": "code",
   "execution_count": 124,
   "id": "647b5aa1",
   "metadata": {},
   "outputs": [
    {
     "data": {
      "image/png": "[encoded data removed]",
      "text/plain": [
       "<Figure size 1080x720 with 2 Axes>"
      ]
     },
     "metadata": {
      "needs_background": "light"
     },
     "output_type": "display_data"
    }
   ],
   "source": [
    "#Executive\n",
    "x_labels=['Capacity','Planning','Value','Competency']\n",
    "plt.figure(figsize=(15, 10))\n",
    "\n",
    "# Define the color map\n",
    "cmap = mcolors.LinearSegmentedColormap.from_list(\"\", [\"red\", \"saddlebrown\", \"yellow\", \"green\"]) #this is diverging\n",
    "\n",
    "# Plot the heatmap for Executive\n",
    "sns.heatmap(Executive_data.pivot_table(values='Mean Final Score', index='Tier', columns='Element_Sno'),\n",
    "                 annot=True, fmt='.1f', cmap=cmap,xticklabels=x_labels)\n",
    "plt.title('Heat Map for Executive')\n",
    "plt.xlabel('Element')\n",
    "plt.ylabel('Tier')\n",
    "plt.show()\n"
   ]
  },
  {
   "cell_type": "code",
   "execution_count": 125,
   "id": "1dff658e",
   "metadata": {},
   "outputs": [
    {
     "data": {
      "image/png": "[encoded data removed]",
      "text/plain": [
       "<Figure size 1080x720 with 2 Axes>"
      ]
     },
     "metadata": {
      "needs_background": "light"
     },
     "output_type": "display_data"
    }
   ],
   "source": [
    "#Operational\n",
    "plt.figure(figsize=(15, 10))\n",
    "cmap = mcolors.ListedColormap([\"#FF0000\", \"#FFA500\", \"#F6F658\", \"#70AD47\"]) #this is 4 fixed colors\n",
    "#FFA500-orange\n",
    "#8B4513-brown\n",
    "sns.heatmap(Operational_data.pivot_table(values='Mean Final Score', index='Tier', columns='Element_Sno'),\n",
    "                 annot=True, fmt='.1f', cmap=cmap,xticklabels=x_labels)\n",
    "plt.title('Heat Map for Operational')\n",
    "plt.xlabel('Element')\n",
    "plt.ylabel('Tier')\n",
    "plt.show()\n",
    "\n"
   ]
  },
  {
   "cell_type": "code",
   "execution_count": 126,
   "id": "506b37c6",
   "metadata": {},
   "outputs": [
    {
     "data": {
      "image/png": "[encoded data removed]",
      "text/plain": [
       "<Figure size 1080x720 with 2 Axes>"
      ]
     },
     "metadata": {
      "needs_background": "light"
     },
     "output_type": "display_data"
    }
   ],
   "source": [
    "#Transactional\n",
    "plt.figure(figsize=(15, 10))\n",
    "sns.heatmap(Transactional_data.pivot_table(values='Mean Final Score', index='Tier', columns='Element_Sno'),\n",
    "                 annot=True, fmt='.1f', cmap=cmap,xticklabels=x_labels)\n",
    "plt.title('Heat Map for Transactional')\n",
    "plt.xlabel('Element')\n",
    "plt.ylabel('Tier')\n",
    "plt.show()"
   ]
  },
  {
   "cell_type": "code",
   "execution_count": null,
   "id": "c0cf0511",
   "metadata": {},
   "outputs": [],
   "source": []
  }
 ],
 "metadata": {
  "kernelspec": {
   "display_name": "Python 3 (ipykernel)",
   "language": "python",
   "name": "python3"
  },
  "language_info": {
   "codemirror_mode": {
    "name": "ipython",
    "version": 3
   },
   "file_extension": ".py",
   "mimetype": "text/x-python",
   "name": "python",
   "nbconvert_exporter": "python",
   "pygments_lexer": "ipython3",
   "version": "3.9.6"
  }
 },
 "nbformat": 4,
 "nbformat_minor": 5
}
